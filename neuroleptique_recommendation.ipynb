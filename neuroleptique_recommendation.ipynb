import pandas as pd
import ipywidgets as widgets
from IPython.display import display

# Define the data
data = {
    "Neuroleptique": ["Haloperidol", "Amisulprid", "Risperidone", "Ziprasidone", "Aripiprazol", "Clozapine", "Olanzapine", "Quetiapine"],
    "Dopamine D₁": ["Forte", "Pas d'effet", "Pas d'effet", "Pas d'effet", "Pas d'effet", "Pas d'effet", "Pas d'effet", "Pas d'effet"],
    "Dopamine D₂": ["Très forte", "Très forte", "Très forte", "Forte", "Forte", "Forte", "Forte", "Forte"],
    "Dopamine D₃": ["Forte", "Forte", "Forte", "Forte", "Forte", "Forte", "Forte", "Forte"],
    "Dopamine D₄": ["Forte", "Forte", "Forte", "Forte", "Forte", "Forte", "Forte", "Forte"],
    "Sérotonine 5HT1A": ["Pas d'effet", "Pas d'effet", "Faible", "Forte", "Forte", "Forte", "Forte", "Forte"],
    "Sérotonine 5HT1D": ["Pas d'effet", "Pas d'effet", "Forte", "Forte", "Forte", "Forte", "Forte", "Forte"],
    "Sérotonine 5HT2A": ["Pas d'effet", "Pas d'effet", "Forte", "Forte", "Forte", "Forte", "Forte", "Forte"],
    "Sérotonine 5HT2C": ["Pas d'effet", "Pas d'effet", "Forte", "Forte", "Forte", "Forte", "Forte", "Forte"],
    "Sérotonine 5HT6": ["Pas d'effet", "Pas d'effet", "Pas d'effet", "Forte", "Pas d'effet", "Forte", "Pas d'effet", "Pas d'effet"],
    "Sérotonine 5HT7": ["Pas d'effet", "Pas d'effet", "Forte", "Forte", "Pas d'effet", "Forte", "Pas d'effet", "Forte"],
    "Histamine H₁": ["Pas d'effet", "Forte", "Modérée", "Pas d'effet", "Faible", "Très forte", "Très forte", "Très forte"],
    "α₁-Adrénocepteurs": ["Forte", "Pas d'effet", "Modérée", "Modérée", "Modérée", "Très forte", "Modérée", "Modérée"],
    "α₂-Adrénocepteurs": ["Pas d'effet", "Pas d'effet", "Pas d'effet", "Pas d'effet", "Modérée", "Forte", "Modérée", "Pas d'effet"],
    "Acétylcholine M₁": ["Pas d'effet", "Pas d'effet", "Pas d'effet", "Pas d'effet", "Pas d'effet", "Forte", "Modérée", "Forte"],
    "Acétylcholine M₃": ["Pas d'effet", "Pas d'effet", "Pas d'effet", "Pas d'effet", "Pas d'effet", "Pas d'effet", "Pas d'effet", "Forte"],
    "Transporteur de dopamine (DAT)": ["Pas d'effet", "Pas d'effet", "Pas d'effet", "Pas d'effet", "Pas d'effet", "Forte", "Pas d'effet", "Pas d'effet"],
    "Transporteur de noradrénaline (NAT)": ["Pas d'effet", "Pas d'effet", "Pas d'effet", "Pas d'effet", "Pas d'effet", "Pas d'effet", "Pas d'effet", "Très forte"],
    "Transporteur de sérotonine (SERT)": ["Pas d'effet", "Pas d'effet", "Pas d'effet", "Pas d'effet", "Pas d'effet", "Pas d'effet", "Pas d'effet", "Pas d'effet"]
}

# Convert to DataFrame
df = pd.DataFrame(data)

# Define the receptors
receptors = ["Dopamine D₁", "Dopamine D₂", "Dopamine D₃", "Dopamine D₄", "Sérotonine 5HT1A", "Sérotonine 5HT1D", "Sérotonine 5HT2A", "Sérotonine 5HT2C", "Sérotonine 5HT6", "Sérotonine 5HT7", "Histamine H₁", "α₁-Adrénocepteurs", "α₂-Adrénocepteurs", "Acétylcholine M₁", "Acétylcholine M₃", "Transporteur de dopamine (DAT)", "Transporteur de noradrénaline (NAT)", "Transporteur de sérotonine (SERT)"]

# Create input widgets for each receptor
widgets_dict = {receptor: widgets.Dropdown(options=["Pas d'effet", "Faible", "Modérée", "Forte", "Très forte"], description=receptor) for receptor in receptors}

# Display the widgets
for widget in widgets_dict.values():
    display(widget)

# Button to submit
button = widgets.Button(description="Submit")
output = widgets.Output()

def match_medications(input_data, df):
    match_scores = []

    for index, row in df.iterrows():
        match_score = 0
        for receptor, power in input_data.items():
            if power != "Pas d'effet" and power == row[receptor]:
                match_score += 1
        match_scores.append((row["Neuroleptique"], match_score))

    # Sort by highest match score
    match_scores.sort(key=lambda x: x[1], reverse=True)
    return match_scores

def on_button_clicked(b):
    input_data = {receptor: widget.value for receptor, widget in widgets_dict.items()}
    match_scores = match_medications(input_data, df)

    with output:
        output.clear_output()
        print("Recommended medications based on your input:")
        for med, score in match_scores:
            print(f"{med}: Match score = {score}")

button.on_click(on_button_clicked)
display(button, output)
