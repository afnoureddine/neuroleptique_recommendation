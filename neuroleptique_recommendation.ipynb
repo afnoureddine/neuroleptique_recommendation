{
  "nbformat": 4,
  "nbformat_minor": 0,
  "metadata": {
    "colab": {
      "provenance": []
    },
    "kernelspec": {
      "name": "python3",
      "display_name": "Python 3"
    },
    "language_info": {
      "name": "python"
    }
  },
  "cells": [
    {
      "cell_type": "code",
      "execution_count": null,
      "metadata": {
        "id": "dIUY_R6SfZyo"
      },
      "outputs": [],
      "source": [
        "import pandas as pd\n",
        "import ipywidgets as widgets\n",
        "from IPython.display import display\n",
        "\n",
        "# Define the data\n",
        "data = {\n",
        "    \"Neuroleptique\": [\"Haloperidol\", \"Amisulprid\", \"Risperidone\", \"Ziprasidone\", \"Aripiprazol\", \"Clozapine\", \"Olanzapine\", \"Quetiapine\"],\n",
        "    \"Dopamine D₁\": [\"Forte\", \"Pas d'effet\", \"Pas d'effet\", \"Pas d'effet\", \"Pas d'effet\", \"Pas d'effet\", \"Pas d'effet\", \"Pas d'effet\"],\n",
        "    \"Dopamine D₂\": [\"Très forte\", \"Très forte\", \"Très forte\", \"Forte\", \"Forte\", \"Forte\", \"Forte\", \"Forte\"],\n",
        "    \"Dopamine D₃\": [\"Forte\", \"Forte\", \"Forte\", \"Forte\", \"Forte\", \"Forte\", \"Forte\", \"Forte\"],\n",
        "    \"Dopamine D₄\": [\"Forte\", \"Forte\", \"Forte\", \"Forte\", \"Forte\", \"Forte\", \"Forte\", \"Forte\"],\n",
        "    \"Sérotonine 5HT1A\": [\"Pas d'effet\", \"Pas d'effet\", \"Faible\", \"Forte\", \"Forte\", \"Forte\", \"Forte\", \"Forte\"],\n",
        "    \"Sérotonine 5HT1D\": [\"Pas d'effet\", \"Pas d'effet\", \"Forte\", \"Forte\", \"Forte\", \"Forte\", \"Forte\", \"Forte\"],\n",
        "    \"Sérotonine 5HT2A\": [\"Pas d'effet\", \"Pas d'effet\", \"Forte\", \"Forte\", \"Forte\", \"Forte\", \"Forte\", \"Forte\"],\n",
        "    \"Sérotonine 5HT2C\": [\"Pas d'effet\", \"Pas d'effet\", \"Forte\", \"Forte\", \"Forte\", \"Forte\", \"Forte\", \"Forte\"],\n",
        "    \"Sérotonine 5HT6\": [\"Pas d'effet\", \"Pas d'effet\", \"Pas d'effet\", \"Forte\", \"Pas d'effet\", \"Forte\", \"Pas d'effet\", \"Pas d'effet\"],\n",
        "    \"Sérotonine 5HT7\": [\"Pas d'effet\", \"Pas d'effet\", \"Forte\", \"Forte\", \"Pas d'effet\", \"Forte\", \"Pas d'effet\", \"Forte\"],\n",
        "    \"Histamine H₁\": [\"Pas d'effet\", \"Forte\", \"Modérée\", \"Pas d'effet\", \"Faible\", \"Très forte\", \"Très forte\", \"Très forte\"],\n",
        "    \"α₁-Adrénocepteurs\": [\"Forte\", \"Pas d'effet\", \"Modérée\", \"Modérée\", \"Modérée\", \"Très forte\", \"Modérée\", \"Modérée\"],\n",
        "    \"α₂-Adrénocepteurs\": [\"Pas d'effet\", \"Pas d'effet\", \"Pas d'effet\", \"Pas d'effet\", \"Modérée\", \"Forte\", \"Modérée\", \"Pas d'effet\"],\n",
        "    \"Acétylcholine M₁\": [\"Pas d'effet\", \"Pas d'effet\", \"Pas d'effet\", \"Pas d'effet\", \"Pas d'effet\", \"Forte\", \"Modérée\", \"Forte\"],\n",
        "    \"Acétylcholine M₃\": [\"Pas d'effet\", \"Pas d'effet\", \"Pas d'effet\", \"Pas d'effet\", \"Pas d'effet\", \"Pas d'effet\", \"Pas d'effet\", \"Forte\"],\n",
        "    \"Transporteur de dopamine (DAT)\": [\"Pas d'effet\", \"Pas d'effet\", \"Pas d'effet\", \"Pas d'effet\", \"Pas d'effet\", \"Forte\", \"Pas d'effet\", \"Pas d'effet\"],\n",
        "    \"Transporteur de noradrénaline (NAT)\": [\"Pas d'effet\", \"Pas d'effet\", \"Pas d'effet\", \"Pas d'effet\", \"Pas d'effet\", \"Pas d'effet\", \"Pas d'effet\", \"Très forte\"],\n",
        "    \"Transporteur de sérotonine (SERT)\": [\"Pas d'effet\", \"Pas d'effet\", \"Pas d'effet\", \"Pas d'effet\", \"Pas d'effet\", \"Pas d'effet\", \"Pas d'effet\", \"Pas d'effet\"]\n",
        "}\n",
        "\n",
        "# Convert to DataFrame\n",
        "df = pd.DataFrame(data)\n",
        "\n",
        "# Define the receptors\n",
        "receptors = [\"Dopamine D₁\", \"Dopamine D₂\", \"Dopamine D₃\", \"Dopamine D₄\", \"Sérotonine 5HT1A\", \"Sérotonine 5HT1D\", \"Sérotonine 5HT2A\", \"Sérotonine 5HT2C\", \"Sérotonine 5HT6\", \"Sérotonine 5HT7\", \"Histamine H₁\", \"α₁-Adrénocepteurs\", \"α₂-Adrénocepteurs\", \"Acétylcholine M₁\", \"Acétylcholine M₃\", \"Transporteur de dopamine (DAT)\", \"Transporteur de noradrénaline (NAT)\", \"Transporteur de sérotonine (SERT)\"]\n",
        "\n",
        "# Create input widgets for each receptor\n",
        "widgets_dict = {receptor: widgets.Dropdown(options=[\"Pas d'effet\", \"Faible\", \"Modérée\", \"Forte\", \"Très forte\"], description=receptor) for receptor in receptors}\n",
        "\n",
        "# Display the widgets\n",
        "for widget in widgets_dict.values():\n",
        "    display(widget)\n",
        "\n",
        "# Button to submit\n",
        "button = widgets.Button(description=\"Submit\")\n",
        "output = widgets.Output()\n",
        "\n",
        "def match_medications(input_data, df):\n",
        "    match_scores = []\n",
        "\n",
        "    for index, row in df.iterrows():\n",
        "        match_score = 0\n",
        "        for receptor, power in input_data.items():\n",
        "            if power != \"Pas d'effet\" and power == row[receptor]:\n",
        "                match_score += 1\n",
        "        match_scores.append((row[\"Neuroleptique\"], match_score))\n",
        "\n",
        "    # Sort by highest match score\n",
        "    match_scores.sort(key=lambda x: x[1], reverse=True)\n",
        "    return match_scores\n",
        "\n",
        "def on_button_clicked(b):\n",
        "    input_data = {receptor: widget.value for receptor, widget in widgets_dict.items()}\n",
        "    match_scores = match_medications(input_data, df)\n",
        "\n",
        "    with output:\n",
        "        output.clear_output()\n",
        "        print(\"Recommended medications based on your input:\")\n",
        "        for med, score in match_scores:\n",
        "            print(f\"{med}: Match score = {score}\")\n",
        "\n",
        "button.on_click(on_button_clicked)\n",
        "display(button, output)\n"
      ]
    }
  ]
}